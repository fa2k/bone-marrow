{
 "cells": [
  {
   "cell_type": "code",
   "execution_count": 7,
   "metadata": {
    "collapsed": true
   },
   "outputs": [],
   "source": [
    "import tensorflow as tf\n",
    "import numpy as np"
   ]
  },
  {
   "cell_type": "code",
   "execution_count": 3,
   "metadata": {},
   "outputs": [],
   "source": [
    "from tensorflow.keras import layers"
   ]
  },
  {
   "cell_type": "code",
   "execution_count": 5,
   "metadata": {},
   "outputs": [],
   "source": [
    "model = tf.keras.Sequential([\n",
    "        layers.Dense(40),\n",
    "        layers.Dense(2)\n",
    "    ])"
   ]
  },
  {
   "cell_type": "code",
   "execution_count": 6,
   "metadata": {
    "collapsed": true
   },
   "outputs": [],
   "source": [
    "model.compile(optimizer=tf.train.AdamOptimizer(), loss='mse', metrics=['mae'])"
   ]
  },
  {
   "cell_type": "code",
   "execution_count": 8,
   "metadata": {
    "collapsed": true
   },
   "outputs": [],
   "source": [
    "data = np.random.random((1000, 40))\n",
    "labels = np.random.random((1000, 2))"
   ]
  },
  {
   "cell_type": "code",
   "execution_count": 9,
   "metadata": {},
   "outputs": [
    {
     "name": "stdout",
     "output_type": "stream",
     "text": [
      "Epoch 1/10\n",
      "1000/1000 [==============================] - 0s 381us/step - loss: 0.2833 - mean_absolute_error: 0.4228\n",
      "Epoch 2/10\n",
      "1000/1000 [==============================] - 0s 68us/step - loss: 0.1497 - mean_absolute_error: 0.3150\n",
      "Epoch 3/10\n",
      "1000/1000 [==============================] - 0s 68us/step - loss: 0.1269 - mean_absolute_error: 0.2937\n",
      "Epoch 4/10\n",
      "1000/1000 [==============================] - 0s 79us/step - loss: 0.1136 - mean_absolute_error: 0.2798\n",
      "Epoch 5/10\n",
      "1000/1000 [==============================] - 0s 77us/step - loss: 0.1036 - mean_absolute_error: 0.2689\n",
      "Epoch 6/10\n",
      "1000/1000 [==============================] - 0s 68us/step - loss: 0.0966 - mean_absolute_error: 0.2613\n",
      "Epoch 7/10\n",
      "1000/1000 [==============================] - 0s 71us/step - loss: 0.0927 - mean_absolute_error: 0.2573\n",
      "Epoch 8/10\n",
      "1000/1000 [==============================] - 0s 71us/step - loss: 0.0887 - mean_absolute_error: 0.2527\n",
      "Epoch 9/10\n",
      "1000/1000 [==============================] - 0s 75us/step - loss: 0.0883 - mean_absolute_error: 0.2518\n",
      "Epoch 10/10\n",
      "1000/1000 [==============================] - 0s 69us/step - loss: 0.0882 - mean_absolute_error: 0.2516\n"
     ]
    },
    {
     "data": {
      "text/plain": [
       "<tensorflow.python.keras.callbacks.History at 0x10b76c828>"
      ]
     },
     "execution_count": 9,
     "metadata": {},
     "output_type": "execute_result"
    }
   ],
   "source": [
    "model.fit(data, labels, epochs=10, batch_size=32)"
   ]
  },
  {
   "cell_type": "code",
   "execution_count": null,
   "metadata": {
    "collapsed": true
   },
   "outputs": [],
   "source": [
    "np.loadtxt"
   ]
  }
 ],
 "metadata": {
  "kernelspec": {
   "display_name": "Python 3",
   "language": "python",
   "name": "python3"
  },
  "language_info": {
   "codemirror_mode": {
    "name": "ipython",
    "version": 3
   },
   "file_extension": ".py",
   "mimetype": "text/x-python",
   "name": "python",
   "nbconvert_exporter": "python",
   "pygments_lexer": "ipython3",
   "version": "3.5.3"
  }
 },
 "nbformat": 4,
 "nbformat_minor": 2
}
