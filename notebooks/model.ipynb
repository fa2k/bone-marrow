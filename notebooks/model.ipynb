{
 "cells": [
  {
   "cell_type": "code",
   "execution_count": 1,
   "metadata": {
    "collapsed": true
   },
   "outputs": [],
   "source": [
    "import sys\n",
    "sys.path.append(\"..\")"
   ]
  },
  {
   "cell_type": "code",
   "execution_count": 2,
   "metadata": {
    "collapsed": true
   },
   "outputs": [],
   "source": [
    "import tensorflow as tf\n",
    "import numpy as np\n",
    "from tensorflow.keras import layers"
   ]
  },
  {
   "cell_type": "code",
   "execution_count": 3,
   "metadata": {
    "collapsed": true
   },
   "outputs": [],
   "source": [
    "from bmarrow import datasets"
   ]
  },
  {
   "cell_type": "code",
   "execution_count": 4,
   "metadata": {},
   "outputs": [],
   "source": [
    "x, y = datasets.load_simulated_data(\"../data/simulData\")"
   ]
  },
  {
   "cell_type": "code",
   "execution_count": 5,
   "metadata": {
    "collapsed": true
   },
   "outputs": [],
   "source": [
    "model = tf.keras.Sequential([\n",
    "        layers.Dense(40),\n",
    "        layers.Dense(40),\n",
    "        layers.Dense(2)\n",
    "    ])"
   ]
  },
  {
   "cell_type": "code",
   "execution_count": 6,
   "metadata": {
    "collapsed": true
   },
   "outputs": [],
   "source": [
    "model.compile(optimizer=tf.train.AdamOptimizer(), loss='mse', metrics=['mae'])"
   ]
  },
  {
   "cell_type": "code",
   "execution_count": null,
   "metadata": {
    "collapsed": true
   },
   "outputs": [],
   "source": []
  },
  {
   "cell_type": "code",
   "execution_count": 7,
   "metadata": {},
   "outputs": [
    {
     "name": "stdout",
     "output_type": "stream",
     "text": [
      "Train on 60299 samples, validate on 29701 samples\n",
      "Epoch 1/10\n",
      "60299/60299 [==============================] - 5s 86us/step - loss: 55.7966 - mean_absolute_error: 3.6908 - val_loss: 9.8158 - val_mean_absolute_error: 2.4322\n",
      "Epoch 2/10\n",
      "60299/60299 [==============================] - 5s 82us/step - loss: 10.7455 - mean_absolute_error: 2.5412 - val_loss: 12.4538 - val_mean_absolute_error: 2.7502\n",
      "Epoch 3/10\n",
      "60299/60299 [==============================] - 5s 80us/step - loss: 9.9299 - mean_absolute_error: 2.4400 - val_loss: 8.5166 - val_mean_absolute_error: 2.2748\n",
      "Epoch 4/10\n",
      "60299/60299 [==============================] - 5s 85us/step - loss: 8.8139 - mean_absolute_error: 2.2955 - val_loss: 9.3692 - val_mean_absolute_error: 2.4125\n",
      "Epoch 5/10\n",
      "60299/60299 [==============================] - 7s 121us/step - loss: 8.0621 - mean_absolute_error: 2.1834 - val_loss: 7.3674 - val_mean_absolute_error: 2.0525\n",
      "Epoch 6/10\n",
      "60299/60299 [==============================] - 5s 83us/step - loss: 7.3540 - mean_absolute_error: 2.0780 - val_loss: 6.6872 - val_mean_absolute_error: 1.9812\n",
      "Epoch 7/10\n",
      "60299/60299 [==============================] - 5s 81us/step - loss: 6.7247 - mean_absolute_error: 1.9863 - val_loss: 6.3238 - val_mean_absolute_error: 1.9322\n",
      "Epoch 8/10\n",
      "60299/60299 [==============================] - 5s 79us/step - loss: 6.3196 - mean_absolute_error: 1.9205 - val_loss: 6.2948 - val_mean_absolute_error: 1.8990\n",
      "Epoch 9/10\n",
      "60299/60299 [==============================] - 5s 78us/step - loss: 5.9537 - mean_absolute_error: 1.8612 - val_loss: 6.1212 - val_mean_absolute_error: 1.8964\n",
      "Epoch 10/10\n",
      "60299/60299 [==============================] - 5s 78us/step - loss: 5.6806 - mean_absolute_error: 1.8157 - val_loss: 5.3264 - val_mean_absolute_error: 1.7331\n"
     ]
    },
    {
     "data": {
      "text/plain": [
       "<tensorflow.python.keras.callbacks.History at 0x131d7f7f0>"
      ]
     },
     "execution_count": 7,
     "metadata": {},
     "output_type": "execute_result"
    }
   ],
   "source": [
    "model.fit(x, y, epochs=10, batch_size=32, validation_split=0.33)"
   ]
  },
  {
   "cell_type": "markdown",
   "metadata": {
    "collapsed": true
   },
   "source": [
    "## Notes\n",
    "\n",
    "| test | test|\n",
    "|------|-----|\n",
    "| 2 hidden layers 40 units, not shuffled | val_mean_absolute_error: 2.0862 |\n",
    "| 2 hidden layers 40 units, shuffled     | val_mean_absolute_error: 1.7331 |"
   ]
  },
  {
   "cell_type": "code",
   "execution_count": null,
   "metadata": {
    "collapsed": true
   },
   "outputs": [],
   "source": []
  }
 ],
 "metadata": {
  "kernelspec": {
   "display_name": "Python 3",
   "language": "python",
   "name": "python3"
  },
  "language_info": {
   "codemirror_mode": {
    "name": "ipython",
    "version": 3
   },
   "file_extension": ".py",
   "mimetype": "text/x-python",
   "name": "python",
   "nbconvert_exporter": "python",
   "pygments_lexer": "ipython3",
   "version": "3.5.3"
  }
 },
 "nbformat": 4,
 "nbformat_minor": 2
}
