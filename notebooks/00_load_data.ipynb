{
 "cells": [
  {
   "cell_type": "code",
   "execution_count": 2,
   "metadata": {},
   "outputs": [],
   "source": [
    "import re\n",
    "import glob\n",
    "import os.path\n",
    "import numpy as np"
   ]
  },
  {
   "cell_type": "markdown",
   "metadata": {},
   "source": [
    "## Simulated data"
   ]
  },
  {
   "cell_type": "code",
   "execution_count": 9,
   "metadata": {},
   "outputs": [
    {
     "name": "stdout",
     "output_type": "stream",
     "text": [
      "File  ../data/simulData/scale0.85-adip15_bmBounds.tab  scale: 0.85 ; adiposity: 15.0\n",
      " > Bounds:      shape= (10000, 2) , max= 31.0 min= 10.0\n",
      " > Intensities: shape= (10000, 40) , max= 250.0 min= 0.0\n",
      "File  ../data/simulData/scale1.15-adip180_bmBounds.tab  scale: 1.15 ; adiposity: 180.0\n",
      " > Bounds:      shape= (10000, 2) , max= 40.0 min= 14.0\n",
      " > Intensities: shape= (10000, 40) , max= 250.0 min= 0.0\n",
      "File  ../data/simulData/scale1.15-adip15_bmBounds.tab  scale: 1.15 ; adiposity: 15.0\n",
      " > Bounds:      shape= (10000, 2) , max= 40.0 min= 13.0\n",
      " > Intensities: shape= (10000, 40) , max= 250.0 min= 0.0\n",
      "File  ../data/simulData/scale1-adip100_bmBounds.tab  scale: 1.0 ; adiposity: 100.0\n",
      " > Bounds:      shape= (10000, 2) , max= 36.0 min= 12.0\n",
      " > Intensities: shape= (10000, 40) , max= 250.0 min= 0.0\n",
      "File  ../data/simulData/scale0.85-adip100_bmBounds.tab  scale: 0.85 ; adiposity: 100.0\n",
      " > Bounds:      shape= (10000, 2) , max= 32.0 min= 9.0\n",
      " > Intensities: shape= (10000, 40) , max= 250.0 min= 0.0\n",
      "File  ../data/simulData/scale1.15-adip100_bmBounds.tab  scale: 1.15 ; adiposity: 100.0\n",
      " > Bounds:      shape= (10000, 2) , max= 40.0 min= 14.0\n",
      " > Intensities: shape= (10000, 40) , max= 250.0 min= 0.0\n",
      "File  ../data/simulData/scale0.85-adip180_bmBounds.tab  scale: 0.85 ; adiposity: 180.0\n",
      " > Bounds:      shape= (10000, 2) , max= 30.0 min= 9.0\n",
      " > Intensities: shape= (10000, 40) , max= 250.0 min= 0.0\n",
      "File  ../data/simulData/scale1-adip15_bmBounds.tab  scale: 1.0 ; adiposity: 15.0\n",
      " > Bounds:      shape= (10000, 2) , max= 36.0 min= 13.0\n",
      " > Intensities: shape= (10000, 40) , max= 250.0 min= 0.0\n",
      "File  ../data/simulData/scale1-adip180_bmBounds.tab  scale: 1.0 ; adiposity: 180.0\n",
      " > Bounds:      shape= (10000, 2) , max= 36.0 min= 12.0\n",
      " > Intensities: shape= (10000, 40) , max= 250.0 min= 0.0\n"
     ]
    }
   ],
   "source": [
    "for bounds_file in glob.glob(\"../data/simulData/*_bmBounds.tab\"):\n",
    "    m = re.search(r\"/scale(.*)-adip(.*)_bmBounds.tab$\", bounds_file)\n",
    "    scale, adip = [float(x) for x in m.groups()]\n",
    "    print(\"File \", bounds_file, \" scale:\", scale, \"; adiposity:\", adip)\n",
    "    ys = np.loadtxt(bounds_file)\n",
    "    print(\" > Bounds:      shape=\", ys.shape, \", max=\", np.max(ys), \"min=\", np.min(ys))\n",
    "    intensities_file = re.sub(r\"_bmBounds.tab$\", \"_intensities.tab\", bounds_file)\n",
    "    xs = np.loadtxt(intensities_file)\n",
    "    print(\" > Intensities: shape=\", xs.shape, \", max=\", np.max(xs), \"min=\", np.min(xs))"
   ]
  },
  {
   "cell_type": "markdown",
   "metadata": {},
   "source": [
    "## Real data"
   ]
  },
  {
   "cell_type": "code",
   "execution_count": 12,
   "metadata": {},
   "outputs": [
    {
     "name": "stdout",
     "output_type": "stream",
     "text": [
      "Transposed shape: (40, 10242)\n",
      "Max: 253.7 min: 0.0\n"
     ]
    }
   ],
   "source": [
    "real_data_file = \"../data/realData/FS_1334172_layers.csv\"\n",
    "raw = np.loadtxt(real_data_file, delimiter=\";\")\n",
    "data = np.transpose(raw)\n",
    "print(\"Transposed shape:\", raw.shape)\n",
    "print(\"Max:\", np.max(data), \"min:\", np.min(data))"
   ]
  },
  {
   "cell_type": "code",
   "execution_count": null,
   "metadata": {},
   "outputs": [],
   "source": []
  }
 ],
 "metadata": {
  "kernelspec": {
   "display_name": "py35tensorflow",
   "language": "python",
   "name": "py35tensorflow"
  },
  "language_info": {
   "codemirror_mode": {
    "name": "ipython",
    "version": 3
   },
   "file_extension": ".py",
   "mimetype": "text/x-python",
   "name": "python",
   "nbconvert_exporter": "python",
   "pygments_lexer": "ipython3",
   "version": "3.6.8"
  }
 },
 "nbformat": 4,
 "nbformat_minor": 2
}
