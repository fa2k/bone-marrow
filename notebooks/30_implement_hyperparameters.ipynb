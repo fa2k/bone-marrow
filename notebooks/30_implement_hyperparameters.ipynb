{
 "cells": [
  {
   "cell_type": "markdown",
   "metadata": {},
   "source": [
    "## Hyperparameter definitions\n",
    "\n"
   ]
  },
  {
   "cell_type": "markdown",
   "metadata": {},
   "source": [
    "This notebook is for defining a model with hyperparameters. Optimisation is for the next notebook.\n",
    "\n",
    "* Output activation function: ReLU; linear\n",
    "* Number of units\n",
    "* Number of layers\n",
    "* Loss function(?)\n",
    "* Input normalisation\n",
    "* Output normalisation\n",
    "* Output definitions: start,end; start,length\n",
    "* Rounding of output values"
   ]
  },
  {
   "cell_type": "code",
   "execution_count": null,
   "metadata": {
    "collapsed": true
   },
   "outputs": [],
   "source": []
  }
 ],
 "metadata": {
  "kernelspec": {
   "display_name": "Python 3",
   "language": "python",
   "name": "python3"
  },
  "language_info": {
   "codemirror_mode": {
    "name": "ipython",
    "version": 3
   },
   "file_extension": ".py",
   "mimetype": "text/x-python",
   "name": "python",
   "nbconvert_exporter": "python",
   "pygments_lexer": "ipython3",
   "version": "3.5.3"
  }
 },
 "nbformat": 4,
 "nbformat_minor": 2
}
