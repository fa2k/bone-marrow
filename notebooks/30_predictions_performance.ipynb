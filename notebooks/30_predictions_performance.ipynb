{
 "cells": [
  {
   "cell_type": "code",
   "execution_count": 1,
   "metadata": {
    "collapsed": true
   },
   "outputs": [],
   "source": [
    "import re\n",
    "import glob\n",
    "import numpy as np\n",
    "import matplotlib.pyplot as plt\n",
    "from collections import defaultdict"
   ]
  },
  {
   "cell_type": "code",
   "execution_count": 2,
   "metadata": {},
   "outputs": [],
   "source": [
    "import tensorflow as tf\n",
    "from tensorflow.keras import layers\n",
    "from sklearn.utils import shuffle"
   ]
  },
  {
   "cell_type": "markdown",
   "metadata": {},
   "source": [
    "## Train same model as previous notebook"
   ]
  },
  {
   "cell_type": "code",
   "execution_count": 3,
   "metadata": {
    "collapsed": true
   },
   "outputs": [],
   "source": [
    "# Load simulated data: load complete training and validation sets.\n",
    "np.random.seed(11)\n",
    "\n",
    "# Training set should be one concatenated shuffled list of simulated examples\n",
    "# Validation set similarly, but also keep information about simulation parameters\n",
    "# to evaluate performance in specific simulation conditions.\n",
    "bounds_files = glob.glob(\"../data/simulData/*_bmBounds.tab\")\n",
    "intensities_files = [re.sub(r\"_bmBounds.tab$\", \"_intensities.tab\", bounds_file)\n",
    "                     for bounds_file in bounds_files]\n",
    "y, x = shuffle(\n",
    "    np.concatenate([np.loadtxt(bounds_file) for bounds_file in bounds_files]),\n",
    "    np.concatenate([np.loadtxt(intensities_file) for intensities_file in intensities_files])\n",
    ")"
   ]
  },
  {
   "cell_type": "code",
   "execution_count": 4,
   "metadata": {
    "collapsed": true
   },
   "outputs": [],
   "source": [
    "def overlap_metric(y_true, y_predicted):\n",
    "    y_pred_round = tf.round(y_predicted)\n",
    "    max_start = tf.math.maximum(y_true[:, 0], y_pred_round[:, 0])\n",
    "    min_end = tf.math.minimum(y_true[:, 1], y_pred_round[:,1])\n",
    "    overlap = tf.math.maximum(0.0, min_end - max_start)\n",
    "    longest_bounds = tf.math.maximum(\n",
    "        y_true[:, 1] + 1 - y_true[:, 0], \n",
    "        y_pred_round[:, 1] + 1 - y_pred_round[:, 0]\n",
    "        )\n",
    "    return overlap / longest_bounds"
   ]
  },
  {
   "cell_type": "code",
   "execution_count": 5,
   "metadata": {},
   "outputs": [],
   "source": [
    "model = tf.keras.Sequential([\n",
    "        layers.Dense(40, activation='relu'),\n",
    "        layers.Dense(2, activation='linear')\n",
    "    ])\n",
    "model.compile(\n",
    "    optimizer=tf.train.AdamOptimizer(learning_rate=0.01),\n",
    "    loss='mse',\n",
    "    metrics=['mae', overlap_metric]\n",
    "    )"
   ]
  },
  {
   "cell_type": "code",
   "execution_count": 6,
   "metadata": {},
   "outputs": [
    {
     "name": "stdout",
     "output_type": "stream",
     "text": [
      "Train on 60299 samples, validate on 29701 samples\n",
      "Epoch 1/1000\n",
      "60299/60299 [==============================] - 1s 16us/step - loss: 2724.2504 - mean_absolute_error: 42.3468 - overlap_metric: 0.0151 - val_loss: 668.3637 - val_mean_absolute_error: 20.7189 - val_overlap_metric: 0.0368\n",
      "Epoch 2/1000\n",
      "60299/60299 [==============================] - 1s 10us/step - loss: 603.0986 - mean_absolute_error: 20.0796 - overlap_metric: 0.0400 - val_loss: 338.8343 - val_mean_absolute_error: 14.6950 - val_overlap_metric: 0.0467\n",
      "Epoch 3/1000\n",
      "60299/60299 [==============================] - 1s 10us/step - loss: 327.1732 - mean_absolute_error: 14.4480 - overlap_metric: 0.0600 - val_loss: 303.0478 - val_mean_absolute_error: 14.3558 - val_overlap_metric: 0.0481\n",
      "Epoch 4/1000\n",
      "60299/60299 [==============================] - 1s 11us/step - loss: 194.0972 - mean_absolute_error: 11.1292 - overlap_metric: 0.0786 - val_loss: 155.1968 - val_mean_absolute_error: 10.0504 - val_overlap_metric: 0.1071\n",
      "Epoch 5/1000\n",
      "60299/60299 [==============================] - 1s 10us/step - loss: 120.3571 - mean_absolute_error: 8.7423 - overlap_metric: 0.1151 - val_loss: 80.0312 - val_mean_absolute_error: 7.0862 - val_overlap_metric: 0.1429\n",
      "Epoch 6/1000\n",
      "60299/60299 [==============================] - 1s 11us/step - loss: 81.4896 - mean_absolute_error: 7.1330 - overlap_metric: 0.1546 - val_loss: 70.6620 - val_mean_absolute_error: 6.6846 - val_overlap_metric: 0.1412\n",
      "Epoch 7/1000\n",
      "60299/60299 [==============================] - 1s 10us/step - loss: 64.7975 - mean_absolute_error: 6.3874 - overlap_metric: 0.1585 - val_loss: 58.6033 - val_mean_absolute_error: 6.0388 - val_overlap_metric: 0.1764\n",
      "Epoch 8/1000\n",
      "60299/60299 [==============================] - 1s 11us/step - loss: 53.5331 - mean_absolute_error: 5.7844 - overlap_metric: 0.1746 - val_loss: 47.1645 - val_mean_absolute_error: 5.4162 - val_overlap_metric: 0.1975\n",
      "Epoch 9/1000\n",
      "60299/60299 [==============================] - 1s 11us/step - loss: 45.7881 - mean_absolute_error: 5.3177 - overlap_metric: 0.1946 - val_loss: 43.8106 - val_mean_absolute_error: 5.2256 - val_overlap_metric: 0.1972\n",
      "Epoch 10/1000\n",
      "60299/60299 [==============================] - 1s 10us/step - loss: 41.0342 - mean_absolute_error: 5.0348 - overlap_metric: 0.2023 - val_loss: 38.6579 - val_mean_absolute_error: 4.8820 - val_overlap_metric: 0.2165\n",
      "Epoch 11/1000\n",
      "60299/60299 [==============================] - 1s 11us/step - loss: 37.1886 - mean_absolute_error: 4.7862 - overlap_metric: 0.2111 - val_loss: 35.6827 - val_mean_absolute_error: 4.6812 - val_overlap_metric: 0.2269\n",
      "Epoch 12/1000\n",
      "60299/60299 [==============================] - 1s 11us/step - loss: 34.2595 - mean_absolute_error: 4.5821 - overlap_metric: 0.2219 - val_loss: 32.9756 - val_mean_absolute_error: 4.4939 - val_overlap_metric: 0.2336\n",
      "Epoch 13/1000\n",
      "60299/60299 [==============================] - 1s 11us/step - loss: 31.7037 - mean_absolute_error: 4.4005 - overlap_metric: 0.2315 - val_loss: 30.7379 - val_mean_absolute_error: 4.3350 - val_overlap_metric: 0.2379\n",
      "Epoch 14/1000\n",
      "60299/60299 [==============================] - 1s 11us/step - loss: 29.4781 - mean_absolute_error: 4.2404 - overlap_metric: 0.2387 - val_loss: 28.5575 - val_mean_absolute_error: 4.1728 - val_overlap_metric: 0.2467\n",
      "Epoch 15/1000\n",
      "60299/60299 [==============================] - 1s 11us/step - loss: 27.4877 - mean_absolute_error: 4.0922 - overlap_metric: 0.2468 - val_loss: 26.7543 - val_mean_absolute_error: 4.0374 - val_overlap_metric: 0.2575\n",
      "Epoch 16/1000\n",
      "60299/60299 [==============================] - 1s 11us/step - loss: 25.7207 - mean_absolute_error: 3.9558 - overlap_metric: 0.2552 - val_loss: 25.0777 - val_mean_absolute_error: 3.9036 - val_overlap_metric: 0.2648\n",
      "Epoch 17/1000\n",
      "60299/60299 [==============================] - 1s 11us/step - loss: 24.1272 - mean_absolute_error: 3.8269 - overlap_metric: 0.2631 - val_loss: 23.6171 - val_mean_absolute_error: 3.7851 - val_overlap_metric: 0.2754\n",
      "Epoch 18/1000\n",
      "60299/60299 [==============================] - 1s 11us/step - loss: 22.7097 - mean_absolute_error: 3.7093 - overlap_metric: 0.2719 - val_loss: 22.2882 - val_mean_absolute_error: 3.6750 - val_overlap_metric: 0.2810\n",
      "Epoch 19/1000\n",
      "60299/60299 [==============================] - 1s 11us/step - loss: 21.4078 - mean_absolute_error: 3.5997 - overlap_metric: 0.2801 - val_loss: 21.0051 - val_mean_absolute_error: 3.5630 - val_overlap_metric: 0.2825\n",
      "Epoch 20/1000\n",
      "60299/60299 [==============================] - 1s 10us/step - loss: 20.2143 - mean_absolute_error: 3.4957 - overlap_metric: 0.2869 - val_loss: 19.8884 - val_mean_absolute_error: 3.4635 - val_overlap_metric: 0.2907\n",
      "Epoch 21/1000\n",
      "60299/60299 [==============================] - 1s 11us/step - loss: 19.1528 - mean_absolute_error: 3.4008 - overlap_metric: 0.2955 - val_loss: 18.8764 - val_mean_absolute_error: 3.3711 - val_overlap_metric: 0.2967\n",
      "Epoch 22/1000\n",
      "60299/60299 [==============================] - 1s 11us/step - loss: 18.1793 - mean_absolute_error: 3.3104 - overlap_metric: 0.3035 - val_loss: 17.9578 - val_mean_absolute_error: 3.2850 - val_overlap_metric: 0.3035\n",
      "Epoch 23/1000\n",
      "60299/60299 [==============================] - 1s 11us/step - loss: 17.2988 - mean_absolute_error: 3.2268 - overlap_metric: 0.3105 - val_loss: 17.1566 - val_mean_absolute_error: 3.2078 - val_overlap_metric: 0.3109\n",
      "Epoch 24/1000\n",
      "60299/60299 [==============================] - 1s 11us/step - loss: 16.4912 - mean_absolute_error: 3.1488 - overlap_metric: 0.3180 - val_loss: 16.3312 - val_mean_absolute_error: 3.1266 - val_overlap_metric: 0.3257\n",
      "Epoch 25/1000\n",
      "60299/60299 [==============================] - 1s 10us/step - loss: 15.7326 - mean_absolute_error: 3.0725 - overlap_metric: 0.3267 - val_loss: 15.6245 - val_mean_absolute_error: 3.0542 - val_overlap_metric: 0.3285\n",
      "Epoch 26/1000\n",
      "60299/60299 [==============================] - 1s 11us/step - loss: 15.0678 - mean_absolute_error: 3.0040 - overlap_metric: 0.3333 - val_loss: 14.9856 - val_mean_absolute_error: 2.9871 - val_overlap_metric: 0.3333\n",
      "Epoch 27/1000\n",
      "60299/60299 [==============================] - 1s 11us/step - loss: 14.4574 - mean_absolute_error: 2.9393 - overlap_metric: 0.3410 - val_loss: 14.3994 - val_mean_absolute_error: 2.9249 - val_overlap_metric: 0.3442\n",
      "Epoch 28/1000\n",
      "60299/60299 [==============================] - 1s 11us/step - loss: 13.9164 - mean_absolute_error: 2.8810 - overlap_metric: 0.3481 - val_loss: 13.9029 - val_mean_absolute_error: 2.8709 - val_overlap_metric: 0.3495\n",
      "Epoch 29/1000\n",
      "60299/60299 [==============================] - 1s 11us/step - loss: 13.4316 - mean_absolute_error: 2.8278 - overlap_metric: 0.3542 - val_loss: 13.4070 - val_mean_absolute_error: 2.8155 - val_overlap_metric: 0.3553\n",
      "Epoch 30/1000\n",
      "60299/60299 [==============================] - 1s 13us/step - loss: 12.9776 - mean_absolute_error: 2.7767 - overlap_metric: 0.3609 - val_loss: 12.9703 - val_mean_absolute_error: 2.7664 - val_overlap_metric: 0.3637\n",
      "Epoch 31/1000\n",
      "60299/60299 [==============================] - 1s 11us/step - loss: 12.5747 - mean_absolute_error: 2.7308 - overlap_metric: 0.3664 - val_loss: 12.5973 - val_mean_absolute_error: 2.7250 - val_overlap_metric: 0.3753\n",
      "Epoch 32/1000\n",
      "60299/60299 [==============================] - 1s 11us/step - loss: 12.2157 - mean_absolute_error: 2.6895 - overlap_metric: 0.3737 - val_loss: 12.2333 - val_mean_absolute_error: 2.6815 - val_overlap_metric: 0.3746\n",
      "Epoch 33/1000\n",
      "60299/60299 [==============================] - 1s 11us/step - loss: 11.8639 - mean_absolute_error: 2.6475 - overlap_metric: 0.3785 - val_loss: 11.8928 - val_mean_absolute_error: 2.6408 - val_overlap_metric: 0.3790\n",
      "Epoch 34/1000\n",
      "60299/60299 [==============================] - 1s 11us/step - loss: 11.5499 - mean_absolute_error: 2.6108 - overlap_metric: 0.3843 - val_loss: 11.5854 - val_mean_absolute_error: 2.6054 - val_overlap_metric: 0.3895\n",
      "Epoch 35/1000\n",
      "60299/60299 [==============================] - 1s 11us/step - loss: 11.2644 - mean_absolute_error: 2.5764 - overlap_metric: 0.3896 - val_loss: 11.3094 - val_mean_absolute_error: 2.5708 - val_overlap_metric: 0.3877\n",
      "Epoch 36/1000\n",
      "60299/60299 [==============================] - 1s 11us/step - loss: 11.0029 - mean_absolute_error: 2.5444 - overlap_metric: 0.3936 - val_loss: 11.0505 - val_mean_absolute_error: 2.5397 - val_overlap_metric: 0.3975\n"
     ]
    },
    {
     "name": "stdout",
     "output_type": "stream",
     "text": [
      "Epoch 37/1000\n",
      "60299/60299 [==============================] - 1s 11us/step - loss: 10.7712 - mean_absolute_error: 2.5158 - overlap_metric: 0.3994 - val_loss: 10.8220 - val_mean_absolute_error: 2.5122 - val_overlap_metric: 0.4029\n",
      "Epoch 38/1000\n",
      "60299/60299 [==============================] - 1s 10us/step - loss: 10.5516 - mean_absolute_error: 2.4892 - overlap_metric: 0.4029 - val_loss: 10.6028 - val_mean_absolute_error: 2.4839 - val_overlap_metric: 0.4008\n",
      "Epoch 39/1000\n",
      "60299/60299 [==============================] - 1s 10us/step - loss: 10.3424 - mean_absolute_error: 2.4630 - overlap_metric: 0.4073 - val_loss: 10.4336 - val_mean_absolute_error: 2.4649 - val_overlap_metric: 0.4123\n",
      "Epoch 40/1000\n",
      "60299/60299 [==============================] - 1s 11us/step - loss: 10.1518 - mean_absolute_error: 2.4391 - overlap_metric: 0.4114 - val_loss: 10.2688 - val_mean_absolute_error: 2.4436 - val_overlap_metric: 0.4103\n",
      "Epoch 41/1000\n",
      "60299/60299 [==============================] - 1s 10us/step - loss: 9.9826 - mean_absolute_error: 2.4184 - overlap_metric: 0.4143 - val_loss: 10.0430 - val_mean_absolute_error: 2.4158 - val_overlap_metric: 0.4187\n",
      "Epoch 42/1000\n",
      "60299/60299 [==============================] - 1s 11us/step - loss: 9.8112 - mean_absolute_error: 2.3962 - overlap_metric: 0.4193 - val_loss: 9.8797 - val_mean_absolute_error: 2.3948 - val_overlap_metric: 0.4191\n",
      "Epoch 43/1000\n",
      "60299/60299 [==============================] - 1s 13us/step - loss: 9.6508 - mean_absolute_error: 2.3756 - overlap_metric: 0.4221 - val_loss: 9.7363 - val_mean_absolute_error: 2.3767 - val_overlap_metric: 0.4228\n",
      "Epoch 44/1000\n",
      "60299/60299 [==============================] - 1s 12us/step - loss: 9.5148 - mean_absolute_error: 2.3581 - overlap_metric: 0.4245 - val_loss: 9.5952 - val_mean_absolute_error: 2.3598 - val_overlap_metric: 0.4276\n",
      "Epoch 45/1000\n",
      "60299/60299 [==============================] - 1s 11us/step - loss: 9.3866 - mean_absolute_error: 2.3421 - overlap_metric: 0.4279 - val_loss: 9.4723 - val_mean_absolute_error: 2.3442 - val_overlap_metric: 0.4296\n",
      "Epoch 46/1000\n",
      "60299/60299 [==============================] - 1s 12us/step - loss: 9.2668 - mean_absolute_error: 2.3272 - overlap_metric: 0.4308 - val_loss: 9.3540 - val_mean_absolute_error: 2.3294 - val_overlap_metric: 0.4312\n",
      "Epoch 47/1000\n",
      "60299/60299 [==============================] - 1s 11us/step - loss: 9.1574 - mean_absolute_error: 2.3132 - overlap_metric: 0.4327 - val_loss: 9.2470 - val_mean_absolute_error: 2.3161 - val_overlap_metric: 0.4331\n",
      "Epoch 48/1000\n",
      "60299/60299 [==============================] - 1s 11us/step - loss: 9.0588 - mean_absolute_error: 2.3008 - overlap_metric: 0.4351 - val_loss: 9.1402 - val_mean_absolute_error: 2.3029 - val_overlap_metric: 0.4361\n",
      "Epoch 49/1000\n",
      "60299/60299 [==============================] - 1s 11us/step - loss: 8.9633 - mean_absolute_error: 2.2890 - overlap_metric: 0.4375 - val_loss: 9.0557 - val_mean_absolute_error: 2.2929 - val_overlap_metric: 0.4404\n",
      "Epoch 50/1000\n",
      "60299/60299 [==============================] - 1s 11us/step - loss: 8.8692 - mean_absolute_error: 2.2771 - overlap_metric: 0.4395 - val_loss: 8.9758 - val_mean_absolute_error: 2.2820 - val_overlap_metric: 0.4374\n",
      "Epoch 51/1000\n",
      "60299/60299 [==============================] - 1s 11us/step - loss: 8.7891 - mean_absolute_error: 2.2665 - overlap_metric: 0.4413 - val_loss: 8.8778 - val_mean_absolute_error: 2.2705 - val_overlap_metric: 0.4436\n",
      "Epoch 52/1000\n",
      "60299/60299 [==============================] - 1s 11us/step - loss: 8.7094 - mean_absolute_error: 2.2566 - overlap_metric: 0.4431 - val_loss: 8.7926 - val_mean_absolute_error: 2.2601 - val_overlap_metric: 0.4447\n",
      "Epoch 53/1000\n",
      "60299/60299 [==============================] - 1s 12us/step - loss: 8.6346 - mean_absolute_error: 2.2465 - overlap_metric: 0.4454 - val_loss: 8.7260 - val_mean_absolute_error: 2.2500 - val_overlap_metric: 0.4402\n",
      "Epoch 54/1000\n",
      "60299/60299 [==============================] - 1s 13us/step - loss: 8.5664 - mean_absolute_error: 2.2381 - overlap_metric: 0.4447 - val_loss: 8.6458 - val_mean_absolute_error: 2.2423 - val_overlap_metric: 0.4508\n",
      "Epoch 55/1000\n",
      "60299/60299 [==============================] - 1s 14us/step - loss: 8.4918 - mean_absolute_error: 2.2291 - overlap_metric: 0.4474 - val_loss: 8.5769 - val_mean_absolute_error: 2.2330 - val_overlap_metric: 0.4505\n",
      "Epoch 56/1000\n",
      "60299/60299 [==============================] - 1s 11us/step - loss: 8.4257 - mean_absolute_error: 2.2206 - overlap_metric: 0.4495 - val_loss: 8.5180 - val_mean_absolute_error: 2.2258 - val_overlap_metric: 0.4504\n",
      "Epoch 57/1000\n",
      "60299/60299 [==============================] - 1s 12us/step - loss: 8.3676 - mean_absolute_error: 2.2134 - overlap_metric: 0.4502 - val_loss: 8.4553 - val_mean_absolute_error: 2.2181 - val_overlap_metric: 0.4518\n",
      "Epoch 58/1000\n",
      "60299/60299 [==============================] - 1s 13us/step - loss: 8.3062 - mean_absolute_error: 2.2053 - overlap_metric: 0.4519 - val_loss: 8.3909 - val_mean_absolute_error: 2.2095 - val_overlap_metric: 0.4524\n",
      "Epoch 59/1000\n",
      "60299/60299 [==============================] - 1s 12us/step - loss: 8.2460 - mean_absolute_error: 2.1972 - overlap_metric: 0.4529 - val_loss: 8.3414 - val_mean_absolute_error: 2.2026 - val_overlap_metric: 0.4501\n",
      "Epoch 60/1000\n",
      "60299/60299 [==============================] - 1s 18us/step - loss: 8.1932 - mean_absolute_error: 2.1907 - overlap_metric: 0.4538 - val_loss: 8.2830 - val_mean_absolute_error: 2.1968 - val_overlap_metric: 0.4567\n",
      "Epoch 61/1000\n",
      "60299/60299 [==============================] - 1s 18us/step - loss: 8.1411 - mean_absolute_error: 2.1844 - overlap_metric: 0.4547 - val_loss: 8.2322 - val_mean_absolute_error: 2.1899 - val_overlap_metric: 0.4548\n",
      "Epoch 62/1000\n",
      "60299/60299 [==============================] - 1s 19us/step - loss: 8.0922 - mean_absolute_error: 2.1780 - overlap_metric: 0.4566 - val_loss: 8.1829 - val_mean_absolute_error: 2.1831 - val_overlap_metric: 0.4541\n",
      "Epoch 63/1000\n",
      "60299/60299 [==============================] - 1s 14us/step - loss: 8.0464 - mean_absolute_error: 2.1716 - overlap_metric: 0.4573 - val_loss: 8.1374 - val_mean_absolute_error: 2.1772 - val_overlap_metric: 0.4565\n",
      "Epoch 64/1000\n",
      "49152/60299 [=======================>......] - ETA: 0s - loss: 7.9979 - mean_absolute_error: 2.1667 - overlap_metric: 0.4581"
     ]
    },
    {
     "ename": "KeyboardInterrupt",
     "evalue": "",
     "output_type": "error",
     "traceback": [
      "\u001b[0;31m---------------------------------------------------------------------------\u001b[0m",
      "\u001b[0;31mKeyboardInterrupt\u001b[0m                         Traceback (most recent call last)",
      "\u001b[0;32m<ipython-input-6-83298fa401bb>\u001b[0m in \u001b[0;36m<module>\u001b[0;34m()\u001b[0m\n\u001b[0;32m----> 1\u001b[0;31m \u001b[0mhistory\u001b[0m \u001b[0;34m=\u001b[0m \u001b[0mmodel\u001b[0m\u001b[0;34m.\u001b[0m\u001b[0mfit\u001b[0m\u001b[0;34m(\u001b[0m\u001b[0mx\u001b[0m\u001b[0;34m,\u001b[0m \u001b[0my\u001b[0m\u001b[0;34m,\u001b[0m \u001b[0mepochs\u001b[0m\u001b[0;34m=\u001b[0m\u001b[0;36m1000\u001b[0m\u001b[0;34m,\u001b[0m \u001b[0mbatch_size\u001b[0m\u001b[0;34m=\u001b[0m\u001b[0;36m8192\u001b[0m\u001b[0;34m,\u001b[0m \u001b[0mvalidation_split\u001b[0m\u001b[0;34m=\u001b[0m\u001b[0;36m0.33\u001b[0m\u001b[0;34m)\u001b[0m\u001b[0;34m\u001b[0m\u001b[0m\n\u001b[0m",
      "\u001b[0;32m/Users/paalmbj/anaconda/lib/python3.5/site-packages/tensorflow/python/keras/engine/training.py\u001b[0m in \u001b[0;36mfit\u001b[0;34m(self, x, y, batch_size, epochs, verbose, callbacks, validation_split, validation_data, shuffle, class_weight, sample_weight, initial_epoch, steps_per_epoch, validation_steps, **kwargs)\u001b[0m\n\u001b[1;32m   1361\u001b[0m           \u001b[0minitial_epoch\u001b[0m\u001b[0;34m=\u001b[0m\u001b[0minitial_epoch\u001b[0m\u001b[0;34m,\u001b[0m\u001b[0;34m\u001b[0m\u001b[0m\n\u001b[1;32m   1362\u001b[0m           \u001b[0msteps_per_epoch\u001b[0m\u001b[0;34m=\u001b[0m\u001b[0msteps_per_epoch\u001b[0m\u001b[0;34m,\u001b[0m\u001b[0;34m\u001b[0m\u001b[0m\n\u001b[0;32m-> 1363\u001b[0;31m           validation_steps=validation_steps)\n\u001b[0m\u001b[1;32m   1364\u001b[0m \u001b[0;34m\u001b[0m\u001b[0m\n\u001b[1;32m   1365\u001b[0m   def evaluate(self,\n",
      "\u001b[0;32m/Users/paalmbj/anaconda/lib/python3.5/site-packages/tensorflow/python/keras/engine/training_arrays.py\u001b[0m in \u001b[0;36mfit_loop\u001b[0;34m(model, inputs, targets, sample_weights, batch_size, epochs, verbose, callbacks, val_inputs, val_targets, val_sample_weights, shuffle, callback_metrics, initial_epoch, steps_per_epoch, validation_steps)\u001b[0m\n\u001b[1;32m    262\u001b[0m           \u001b[0mins_batch\u001b[0m\u001b[0;34m[\u001b[0m\u001b[0mi\u001b[0m\u001b[0;34m]\u001b[0m \u001b[0;34m=\u001b[0m \u001b[0mins_batch\u001b[0m\u001b[0;34m[\u001b[0m\u001b[0mi\u001b[0m\u001b[0;34m]\u001b[0m\u001b[0;34m.\u001b[0m\u001b[0mtoarray\u001b[0m\u001b[0;34m(\u001b[0m\u001b[0;34m)\u001b[0m\u001b[0;34m\u001b[0m\u001b[0m\n\u001b[1;32m    263\u001b[0m \u001b[0;34m\u001b[0m\u001b[0m\n\u001b[0;32m--> 264\u001b[0;31m         \u001b[0mouts\u001b[0m \u001b[0;34m=\u001b[0m \u001b[0mf\u001b[0m\u001b[0;34m(\u001b[0m\u001b[0mins_batch\u001b[0m\u001b[0;34m)\u001b[0m\u001b[0;34m\u001b[0m\u001b[0m\n\u001b[0m\u001b[1;32m    265\u001b[0m         \u001b[0;32mif\u001b[0m \u001b[0;32mnot\u001b[0m \u001b[0misinstance\u001b[0m\u001b[0;34m(\u001b[0m\u001b[0mouts\u001b[0m\u001b[0;34m,\u001b[0m \u001b[0mlist\u001b[0m\u001b[0;34m)\u001b[0m\u001b[0;34m:\u001b[0m\u001b[0;34m\u001b[0m\u001b[0m\n\u001b[1;32m    266\u001b[0m           \u001b[0mouts\u001b[0m \u001b[0;34m=\u001b[0m \u001b[0;34m[\u001b[0m\u001b[0mouts\u001b[0m\u001b[0;34m]\u001b[0m\u001b[0;34m\u001b[0m\u001b[0m\n",
      "\u001b[0;32m/Users/paalmbj/anaconda/lib/python3.5/site-packages/tensorflow/python/keras/backend.py\u001b[0m in \u001b[0;36m__call__\u001b[0;34m(self, inputs)\u001b[0m\n\u001b[1;32m   2912\u001b[0m       \u001b[0mself\u001b[0m\u001b[0;34m.\u001b[0m\u001b[0m_make_callable\u001b[0m\u001b[0;34m(\u001b[0m\u001b[0mfeed_arrays\u001b[0m\u001b[0;34m,\u001b[0m \u001b[0mfeed_symbols\u001b[0m\u001b[0;34m,\u001b[0m \u001b[0msymbol_vals\u001b[0m\u001b[0;34m,\u001b[0m \u001b[0msession\u001b[0m\u001b[0;34m)\u001b[0m\u001b[0;34m\u001b[0m\u001b[0m\n\u001b[1;32m   2913\u001b[0m \u001b[0;34m\u001b[0m\u001b[0m\n\u001b[0;32m-> 2914\u001b[0;31m     \u001b[0mfetched\u001b[0m \u001b[0;34m=\u001b[0m \u001b[0mself\u001b[0m\u001b[0;34m.\u001b[0m\u001b[0m_callable_fn\u001b[0m\u001b[0;34m(\u001b[0m\u001b[0;34m*\u001b[0m\u001b[0marray_vals\u001b[0m\u001b[0;34m)\u001b[0m\u001b[0;34m\u001b[0m\u001b[0m\n\u001b[0m\u001b[1;32m   2915\u001b[0m     \u001b[0mself\u001b[0m\u001b[0;34m.\u001b[0m\u001b[0m_call_fetch_callbacks\u001b[0m\u001b[0;34m(\u001b[0m\u001b[0mfetched\u001b[0m\u001b[0;34m[\u001b[0m\u001b[0;34m-\u001b[0m\u001b[0mlen\u001b[0m\u001b[0;34m(\u001b[0m\u001b[0mself\u001b[0m\u001b[0;34m.\u001b[0m\u001b[0m_fetches\u001b[0m\u001b[0;34m)\u001b[0m\u001b[0;34m:\u001b[0m\u001b[0;34m]\u001b[0m\u001b[0;34m)\u001b[0m\u001b[0;34m\u001b[0m\u001b[0m\n\u001b[1;32m   2916\u001b[0m     \u001b[0;32mreturn\u001b[0m \u001b[0mfetched\u001b[0m\u001b[0;34m[\u001b[0m\u001b[0;34m:\u001b[0m\u001b[0mlen\u001b[0m\u001b[0;34m(\u001b[0m\u001b[0mself\u001b[0m\u001b[0;34m.\u001b[0m\u001b[0moutputs\u001b[0m\u001b[0;34m)\u001b[0m\u001b[0;34m]\u001b[0m\u001b[0;34m\u001b[0m\u001b[0m\n",
      "\u001b[0;32m/Users/paalmbj/anaconda/lib/python3.5/site-packages/tensorflow/python/client/session.py\u001b[0m in \u001b[0;36m__call__\u001b[0;34m(self, *args, **kwargs)\u001b[0m\n\u001b[1;32m   1380\u001b[0m           ret = tf_session.TF_SessionRunCallable(\n\u001b[1;32m   1381\u001b[0m               \u001b[0mself\u001b[0m\u001b[0;34m.\u001b[0m\u001b[0m_session\u001b[0m\u001b[0;34m.\u001b[0m\u001b[0m_session\u001b[0m\u001b[0;34m,\u001b[0m \u001b[0mself\u001b[0m\u001b[0;34m.\u001b[0m\u001b[0m_handle\u001b[0m\u001b[0;34m,\u001b[0m \u001b[0margs\u001b[0m\u001b[0;34m,\u001b[0m \u001b[0mstatus\u001b[0m\u001b[0;34m,\u001b[0m\u001b[0;34m\u001b[0m\u001b[0m\n\u001b[0;32m-> 1382\u001b[0;31m               run_metadata_ptr)\n\u001b[0m\u001b[1;32m   1383\u001b[0m         \u001b[0;32mif\u001b[0m \u001b[0mrun_metadata\u001b[0m\u001b[0;34m:\u001b[0m\u001b[0;34m\u001b[0m\u001b[0m\n\u001b[1;32m   1384\u001b[0m           \u001b[0mproto_data\u001b[0m \u001b[0;34m=\u001b[0m \u001b[0mtf_session\u001b[0m\u001b[0;34m.\u001b[0m\u001b[0mTF_GetBuffer\u001b[0m\u001b[0;34m(\u001b[0m\u001b[0mrun_metadata_ptr\u001b[0m\u001b[0;34m)\u001b[0m\u001b[0;34m\u001b[0m\u001b[0m\n",
      "\u001b[0;31mKeyboardInterrupt\u001b[0m: "
     ]
    }
   ],
   "source": [
    "history = model.fit(x, y, epochs=1000, batch_size=8192, validation_split=0.33)"
   ]
  },
  {
   "cell_type": "markdown",
   "metadata": {},
   "source": [
    "Check same metrics as previous notebook."
   ]
  },
  {
   "cell_type": "code",
   "execution_count": null,
   "metadata": {},
   "outputs": [],
   "source": [
    "print(\"Mean absolute error\", history.history['val_mean_absolute_error'][-1])\n",
    "print(\"Overlap metric\", history.history['val_overlap_metric'][-1])"
   ]
  },
  {
   "cell_type": "markdown",
   "metadata": {},
   "source": [
    "## Validation on different datasets"
   ]
  },
  {
   "cell_type": "markdown",
   "metadata": {},
   "source": [
    "Simulated datasets, separately"
   ]
  },
  {
   "cell_type": "code",
   "execution_count": null,
   "metadata": {},
   "outputs": [],
   "source": [
    "bounds_files = glob.glob(\"../data/simulData/*_bmBounds.tab\")\n",
    "intensities_files = [re.sub(r\"_bmBounds.tab$\", \"_intensities.tab\", bounds_file)\n",
    "                     for bounds_file in bounds_files]\n"
   ]
  },
  {
   "cell_type": "code",
   "execution_count": null,
   "metadata": {},
   "outputs": [],
   "source": [
    "adip_metrics = defaultdict(list)\n",
    "scale_metrics = defaultdict(list)\n",
    "for bounds_file, intensities_file in zip(bounds_files, intensities_files):\n",
    "    test_y, test_x = shuffle(np.loadtxt(bounds_file), np.loadtxt(intensities_file))\n",
    "    values = model.evaluate(test_x, test_y)\n",
    "    m = re.search(r\"/scale(.*)-adip(.*)_bmBounds.tab$\", bounds_file)\n",
    "    scale, adip = [float(x) for x in m.groups()]\n",
    "    overlap_index = model.metrics_names.index(\"overlap_metric\")\n",
    "    overlap = values[overlap_index]\n",
    "    adip_metrics[adip].append(overlap)\n",
    "    scale_metrics[scale].append(overlap)"
   ]
  },
  {
   "cell_type": "code",
   "execution_count": null,
   "metadata": {},
   "outputs": [],
   "source": [
    "adiposities = sorted(adip_metrics)\n",
    "adip_means = [np.mean(adip_metrics[adip]) for adip in adiposities]"
   ]
  },
  {
   "cell_type": "code",
   "execution_count": null,
   "metadata": {},
   "outputs": [],
   "source": [
    "adip_means"
   ]
  },
  {
   "cell_type": "code",
   "execution_count": null,
   "metadata": {},
   "outputs": [],
   "source": [
    "plt.plot(adiposities, adip_means)\n",
    "plt.show()"
   ]
  },
  {
   "cell_type": "code",
   "execution_count": null,
   "metadata": {},
   "outputs": [],
   "source": [
    "pts"
   ]
  },
  {
   "cell_type": "markdown",
   "metadata": {},
   "source": [
    "data"
   ]
  },
  {
   "cell_type": "raw",
   "metadata": {},
   "source": []
  },
  {
   "cell_type": "code",
   "execution_count": null,
   "metadata": {
    "collapsed": true
   },
   "outputs": [],
   "source": [
    "?plt.plot"
   ]
  },
  {
   "cell_type": "markdown",
   "metadata": {},
   "source": [
    "## Real data predictions"
   ]
  },
  {
   "cell_type": "code",
   "execution_count": null,
   "metadata": {
    "collapsed": true
   },
   "outputs": [],
   "source": [
    "real_data_file = \"../data/realData/FS_1334172_layers.csv\"\n",
    "raw = np.loadtxt(real_data_file, delimiter=\";\")\n",
    "real_data = np.transpose(raw)\n",
    "preds = model.predict(real_data)"
   ]
  },
  {
   "cell_type": "code",
   "execution_count": null,
   "metadata": {},
   "outputs": [],
   "source": [
    "np.savetxt(\"predictions.txt\", preds, fmt=\"%d\")"
   ]
  },
  {
   "cell_type": "code",
   "execution_count": null,
   "metadata": {
    "collapsed": true
   },
   "outputs": [],
   "source": []
  }
 ],
 "metadata": {
  "kernelspec": {
   "display_name": "Python 3",
   "language": "python",
   "name": "python3"
  },
  "language_info": {
   "codemirror_mode": {
    "name": "ipython",
    "version": 3
   },
   "file_extension": ".py",
   "mimetype": "text/x-python",
   "name": "python",
   "nbconvert_exporter": "python",
   "pygments_lexer": "ipython3",
   "version": "3.5.3"
  }
 },
 "nbformat": 4,
 "nbformat_minor": 2
}
