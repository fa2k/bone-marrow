{
 "cells": [
  {
   "cell_type": "code",
   "execution_count": 2,
   "metadata": {
    "collapsed": true
   },
   "outputs": [],
   "source": [
    "import re\n",
    "import glob\n",
    "import numpy as np\n",
    "import matplotlib.pyplot as plt"
   ]
  },
  {
   "cell_type": "code",
   "execution_count": 3,
   "metadata": {
    "collapsed": true
   },
   "outputs": [],
   "source": [
    "# Load simulation\n",
    "parlist, xslist, yslist = [], [], []\n",
    "for bounds_file in glob.glob(\"../data/simulData/*_bmBounds.tab\"):\n",
    "    m = re.search(r\"/scale(.*)-adip(.*)_bmBounds.tab$\", bounds_file)\n",
    "    scale, adip = [float(x) for x in m.groups()]\n",
    "    parlist.append((scale, adip))\n",
    "    ys = np.loadtxt(bounds_file)\n",
    "    yslist.append(ys)\n",
    "    intensities_file = re.sub(r\"_bmBounds.tab$\", \"_intensities.tab\", bounds_file)\n",
    "    xs = np.loadtxt(intensities_file)\n",
    "    xslist.append(xs)"
   ]
  },
  {
   "cell_type": "code",
   "execution_count": 4,
   "metadata": {
    "collapsed": true
   },
   "outputs": [],
   "source": [
    "# Load real data\n",
    "raw = np.loadtxt(\"../data/realData/FS_1334172_layers.csv\", delimiter=\";\")\n",
    "data = np.transpose(raw)"
   ]
  },
  {
   "cell_type": "code",
   "execution_count": 5,
   "metadata": {},
   "outputs": [
    {
     "data": {
      "image/png": "[encoded data removed]",
      "text/plain": [
       "<matplotlib.figure.Figure at 0x10d3b36a0>"
      ]
     },
     "metadata": {},
     "output_type": "display_data"
    }
   ],
   "source": [
    "_, (p11, p21) = plt.subplots(2,1)\n",
    "for ys in yslist:\n",
    "    p11.hist(ys[:, 0])\n",
    "p11.set_title(\"outer bound (simulation)\")\n",
    "for ys in yslist:\n",
    "    p21.hist(ys[:, 1])  \n",
    "p21.set_title(\"inner bound (simulation)\")\n",
    "plt.tight_layout()\n",
    "plt.show()"
   ]
  },
  {
   "cell_type": "code",
   "execution_count": 6,
   "metadata": {
    "collapsed": true
   },
   "outputs": [],
   "source": [
    "# Summed intensities"
   ]
  },
  {
   "cell_type": "code",
   "execution_count": 7,
   "metadata": {},
   "outputs": [
    {
     "data": {
      "text/plain": [
       "<Container object of 40 artists>"
      ]
     },
     "execution_count": 7,
     "metadata": {},
     "output_type": "execute_result"
    }
   ],
   "source": [
    "plt.bar(range(40), np.sum(data, axis=0))"
   ]
  },
  {
   "cell_type": "code",
   "execution_count": 8,
   "metadata": {},
   "outputs": [
    {
     "data": {
      "text/plain": [
       "<Container object of 40 artists>"
      ]
     },
     "execution_count": 8,
     "metadata": {},
     "output_type": "execute_result"
    }
   ],
   "source": [
    "plt.bar(range(40), np.sum(xslist[0], axis=0))"
   ]
  },
  {
   "cell_type": "code",
   "execution_count": 11,
   "metadata": {},
   "outputs": [],
   "source": [
    "# Filtered real data\n",
    "data_filtered = data[np.sum(data, axis=1) > 300, :]"
   ]
  },
  {
   "cell_type": "code",
   "execution_count": 13,
   "metadata": {},
   "outputs": [
    {
     "name": "stdout",
     "output_type": "stream",
     "text": [
      "Number of rows with no intensity discarded: 4448 ( 0.43429017769966805 %)\n"
     ]
    }
   ],
   "source": [
    "dropped = data.shape[0]-data_filtered.shape[0]\n",
    "print(\"Number of rows with no intensity discarded:\", dropped, \"(\", dropped / data.shape[0], \"%)\")"
   ]
  },
  {
   "cell_type": "code",
   "execution_count": null,
   "metadata": {
    "collapsed": true
   },
   "outputs": [],
   "source": []
  }
 ],
 "metadata": {
  "kernelspec": {
   "display_name": "Python 3",
   "language": "python",
   "name": "python3"
  },
  "language_info": {
   "codemirror_mode": {
    "name": "ipython",
    "version": 3
   },
   "file_extension": ".py",
   "mimetype": "text/x-python",
   "name": "python",
   "nbconvert_exporter": "python",
   "pygments_lexer": "ipython3",
   "version": "3.5.3"
  }
 },
 "nbformat": 4,
 "nbformat_minor": 2
}
