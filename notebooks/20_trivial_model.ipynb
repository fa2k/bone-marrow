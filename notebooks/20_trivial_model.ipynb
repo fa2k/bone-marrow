{
 "cells": [
  {
   "cell_type": "code",
   "execution_count": 3,
   "metadata": {
    "collapsed": true
   },
   "outputs": [],
   "source": [
    "import re\n",
    "import glob\n",
    "import numpy as np\n",
    "import matplotlib.pyplot as plt"
   ]
  },
  {
   "cell_type": "code",
   "execution_count": 4,
   "metadata": {
    "collapsed": true
   },
   "outputs": [],
   "source": [
    "import tensorflow as tf\n",
    "from tensorflow.keras import layers"
   ]
  },
  {
   "cell_type": "markdown",
   "metadata": {},
   "source": [
    "This is code to get a trivial model running.\n",
    "\n",
    "No train/validation split here, using all data to train the model.\n",
    "\n",
    "Also make a prediction and verify the exact meaning of the loss, and mean absolute error."
   ]
  },
  {
   "cell_type": "code",
   "execution_count": 11,
   "metadata": {},
   "outputs": [],
   "source": [
    "# Load simulated data: load complete training and validation sets.\n",
    "np.random.seed(11)\n",
    "\n",
    "# Training set should be one concatenated shuffled list of simulated examples\n",
    "# Validation set similarly, but also keep information about simulation parameters\n",
    "# to evaluate performance in specific simulation conditions.\n",
    "bounds_files = glob.glob(\"../data/simulData/*_bmBounds.tab\")\n",
    "intensities_files = [re.sub(r\"_bmBounds.tab$\", \"_intensities.tab\", bounds_file)\n",
    "                     for bounds_file in bounds_files]\n",
    "y = np.concatenate([np.loadtxt(bounds_file) for bounds_file in bounds_files])\n",
    "x = np.concatenate([np.loadtxt(intensities_file) for intensities_file in intensities_files])"
   ]
  },
  {
   "cell_type": "code",
   "execution_count": 24,
   "metadata": {
    "collapsed": true
   },
   "outputs": [],
   "source": [
    "def overlap_metric(y_true, y_predicted):\n",
    "    y_pred_round = tf.round(y_predicted)\n",
    "    max_start = tf.math.maximum(y_true[0], y_pred_round[0])\n",
    "    min_end = tf.math.minimum(y_true[1], y_pred_round[1])\n",
    "    overlap = tf.math.maximum(0.0, min_end - max_start)\n",
    "    longest_bounds = tf.math.maximum(y_true[1] - y_true[0], y_pred_round[1] - y_pred_round[0])\n",
    "    return overlap / longest_bounds"
   ]
  },
  {
   "cell_type": "code",
   "execution_count": 25,
   "metadata": {
    "collapsed": true
   },
   "outputs": [],
   "source": [
    "model = tf.keras.Sequential([\n",
    "        layers.Dense(40, activation='relu'),\n",
    "        layers.Dense(2, activation='linear')\n",
    "    ])\n",
    "model.compile(optimizer=tf.train.AdamOptimizer(),\n",
    "              loss='mse', \n",
    "              metrics=['mae', overlap_metric])"
   ]
  },
  {
   "cell_type": "code",
   "execution_count": 26,
   "metadata": {},
   "outputs": [
    {
     "name": "stdout",
     "output_type": "stream",
     "text": [
      "Train on 60299 samples, validate on 29701 samples\n",
      "Epoch 1/10\n",
      "60299/60299 [==============================] - 5s 80us/step - loss: 57.7866 - mean_absolute_error: 4.6690 - overlap_metric: nan - val_loss: 11.0044 - val_mean_absolute_error: 2.5516 - val_overlap_metric: nan\n",
      "Epoch 2/10\n",
      "60299/60299 [==============================] - 5s 76us/step - loss: 9.1662 - mean_absolute_error: 2.3567 - overlap_metric: nan - val_loss: 11.7012 - val_mean_absolute_error: 2.7890 - val_overlap_metric: nan\n",
      "Epoch 3/10\n",
      "60299/60299 [==============================] - 6s 92us/step - loss: 7.7180 - mean_absolute_error: 2.1513 - overlap_metric: nan - val_loss: 6.2147 - val_mean_absolute_error: 1.9268 - val_overlap_metric: nan\n",
      "Epoch 4/10\n",
      "60299/60299 [==============================] - 4s 66us/step - loss: 6.1214 - mean_absolute_error: 1.9104 - overlap_metric: nan - val_loss: 5.2350 - val_mean_absolute_error: 1.7475 - val_overlap_metric: nan\n",
      "Epoch 5/10\n",
      "60299/60299 [==============================] - 4s 61us/step - loss: 5.6587 - mean_absolute_error: 1.8376 - overlap_metric: nan - val_loss: 5.6335 - val_mean_absolute_error: 1.8024 - val_overlap_metric: nan\n",
      "Epoch 6/10\n",
      "60299/60299 [==============================] - 4s 65us/step - loss: 5.3012 - mean_absolute_error: 1.7777 - overlap_metric: nan - val_loss: 4.6766 - val_mean_absolute_error: 1.6383 - val_overlap_metric: nan\n",
      "Epoch 7/10\n",
      "60299/60299 [==============================] - 4s 72us/step - loss: 5.0591 - mean_absolute_error: 1.7380 - overlap_metric: nan - val_loss: 5.3308 - val_mean_absolute_error: 1.7729 - val_overlap_metric: nan\n",
      "Epoch 8/10\n",
      "60299/60299 [==============================] - 5s 76us/step - loss: 4.8190 - mean_absolute_error: 1.6941 - overlap_metric: nan - val_loss: 5.8561 - val_mean_absolute_error: 1.8687 - val_overlap_metric: nan\n",
      "Epoch 9/10\n",
      "60299/60299 [==============================] - 5s 76us/step - loss: 4.6538 - mean_absolute_error: 1.6625 - overlap_metric: nan - val_loss: 4.7223 - val_mean_absolute_error: 1.6990 - val_overlap_metric: nan\n",
      "Epoch 10/10\n",
      "60299/60299 [==============================] - 4s 65us/step - loss: 4.5701 - mean_absolute_error: 1.6426 - overlap_metric: nan - val_loss: 5.0886 - val_mean_absolute_error: 1.6745 - val_overlap_metric: nan\n"
     ]
    }
   ],
   "source": [
    "history = model.fit(x, y, epochs=10, validation_split=0.33)"
   ]
  },
  {
   "cell_type": "code",
   "execution_count": null,
   "metadata": {
    "collapsed": true
   },
   "outputs": [],
   "source": []
  },
  {
   "cell_type": "code",
   "execution_count": null,
   "metadata": {
    "collapsed": true
   },
   "outputs": [],
   "source": []
  }
 ],
 "metadata": {
  "kernelspec": {
   "display_name": "Python 3",
   "language": "python",
   "name": "python3"
  },
  "language_info": {
   "codemirror_mode": {
    "name": "ipython",
    "version": 3
   },
   "file_extension": ".py",
   "mimetype": "text/x-python",
   "name": "python",
   "nbconvert_exporter": "python",
   "pygments_lexer": "ipython3",
   "version": "3.5.3"
  }
 },
 "nbformat": 4,
 "nbformat_minor": 2
}
